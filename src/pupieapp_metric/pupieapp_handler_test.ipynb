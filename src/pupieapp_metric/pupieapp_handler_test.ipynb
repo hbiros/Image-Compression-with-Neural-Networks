{
 "cells": [
  {
   "cell_type": "code",
   "execution_count": 1,
   "id": "underlying-duplicate",
   "metadata": {},
   "outputs": [],
   "source": [
    "from pu_pieapp_handler import PUPieAppHandler\n",
    "import imageio\n",
    "import torch as pt\n",
    "\n",
    "path_reference_image = './pu_pieapp/example_images/sdr_ref_1.bmp'\n",
    "path_test_image = './pu_pieapp/example_images/sdr_test_1.bmp'\n",
    "image_name = \"sdr_ref_1\"\n",
    "image_ref = imageio.v2.imread(path_reference_image)\n",
    "image_test = imageio.v2.imread(path_test_image)"
   ]
  },
  {
   "cell_type": "code",
   "execution_count": 2,
   "id": "overhead-reliance",
   "metadata": {},
   "outputs": [
    {
     "name": "stdout",
     "output_type": "stream",
     "text": [
      "WARNING:tensorflow:From c:\\python39\\lib\\site-packages\\tensorflow\\python\\autograph\\pyct\\static_analysis\\liveness.py:83: Analyzer.lamba_check (from tensorflow.python.autograph.pyct.static_analysis.liveness) is deprecated and will be removed after 2023-09-23.\n",
      "Instructions for updating:\n",
      "Lambda fuctions will be no more assumed to be used in the statement where they are used, or at least in the same block. https://github.com/tensorflow/tensorflow/issues/56089\n"
     ]
    }
   ],
   "source": [
    "pu_pieapp_handler = PUPieAppHandler()\n",
    "pu_pieapp_handler.update_state(image_name=image_name,\n",
    "                               source_image=image_ref,\n",
    "                               compressed_image=image_test)"
   ]
  },
  {
   "cell_type": "code",
   "execution_count": 3,
   "id": "cellular-content",
   "metadata": {},
   "outputs": [],
   "source": [
    "score = pu_pieapp_handler.result()"
   ]
  },
  {
   "cell_type": "code",
   "execution_count": 4,
   "id": "controlling-spanking",
   "metadata": {},
   "outputs": [
    {
     "data": {
      "text/plain": [
       "{'sdr_ref_1': <tf.Tensor: shape=(), dtype=float32, numpy=-0.9569582>}"
      ]
     },
     "execution_count": 4,
     "metadata": {},
     "output_type": "execute_result"
    }
   ],
   "source": [
    "score"
   ]
  },
  {
   "cell_type": "code",
   "execution_count": 5,
   "id": "olive-output",
   "metadata": {},
   "outputs": [
    {
     "data": {
      "text/plain": [
       "<tf.Tensor: shape=(), dtype=float32, numpy=-0.9569582>"
      ]
     },
     "execution_count": 5,
     "metadata": {},
     "output_type": "execute_result"
    }
   ],
   "source": [
    "score['sdr_ref_1']"
   ]
  },
  {
   "cell_type": "code",
   "execution_count": 6,
   "id": "mature-forty",
   "metadata": {},
   "outputs": [
    {
     "data": {
      "text/plain": [
       "-0.9569582"
      ]
     },
     "execution_count": 6,
     "metadata": {},
     "output_type": "execute_result"
    }
   ],
   "source": [
    "score['sdr_ref_1'].numpy()"
   ]
  }
 ],
 "metadata": {
  "kernelspec": {
   "display_name": "Python 3",
   "language": "python",
   "name": "python3"
  },
  "language_info": {
   "codemirror_mode": {
    "name": "ipython",
    "version": 3
   },
   "file_extension": ".py",
   "mimetype": "text/x-python",
   "name": "python",
   "nbconvert_exporter": "python",
   "pygments_lexer": "ipython3",
   "version": "3.9.1"
  }
 },
 "nbformat": 4,
 "nbformat_minor": 5
}
