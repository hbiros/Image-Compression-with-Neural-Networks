{
 "cells": [
  {
   "cell_type": "code",
   "execution_count": 1,
   "id": "intelligent-treasury",
   "metadata": {},
   "outputs": [
    {
     "data": {
      "text/plain": [
       "PUPieAPP(\n",
       "  (pu_transformer): PUTransformer()\n",
       "  (dim_transformer): DimTransformer()\n",
       "  (extractor): FeatureExtractor(\n",
       "    (conv1): Conv2d(3, 64, kernel_size=(3, 3), stride=(1, 1), padding=(1, 1))\n",
       "    (conv2): Conv2d(64, 64, kernel_size=(3, 3), stride=(1, 1), padding=(1, 1))\n",
       "    (pool2): MaxPool2d(kernel_size=2, stride=2, padding=0, dilation=1, ceil_mode=False)\n",
       "    (conv3): Conv2d(64, 64, kernel_size=(3, 3), stride=(1, 1), padding=(1, 1))\n",
       "    (conv4): Conv2d(64, 128, kernel_size=(3, 3), stride=(1, 1), padding=(1, 1))\n",
       "    (pool4): MaxPool2d(kernel_size=2, stride=2, padding=0, dilation=1, ceil_mode=False)\n",
       "    (conv5): Conv2d(128, 128, kernel_size=(3, 3), stride=(1, 1), padding=(1, 1))\n",
       "    (conv6): Conv2d(128, 128, kernel_size=(3, 3), stride=(1, 1), padding=(1, 1))\n",
       "    (pool6): MaxPool2d(kernel_size=2, stride=2, padding=0, dilation=1, ceil_mode=False)\n",
       "    (conv7): Conv2d(128, 256, kernel_size=(3, 3), stride=(1, 1), padding=(1, 1))\n",
       "    (conv8): Conv2d(256, 256, kernel_size=(3, 3), stride=(1, 1), padding=(1, 1))\n",
       "    (pool8): MaxPool2d(kernel_size=2, stride=2, padding=0, dilation=1, ceil_mode=False)\n",
       "    (conv9): Conv2d(256, 256, kernel_size=(3, 3), stride=(1, 1), padding=(1, 1))\n",
       "    (conv10): Conv2d(256, 512, kernel_size=(3, 3), stride=(1, 1), padding=(1, 1))\n",
       "    (pool10): MaxPool2d(kernel_size=2, stride=2, padding=0, dilation=1, ceil_mode=False)\n",
       "    (conv11): Conv2d(512, 512, kernel_size=(3, 3), stride=(1, 1), padding=(1, 1))\n",
       "  )\n",
       "  (comparitor): Comparitor(\n",
       "    (fcs): Sequential(\n",
       "      (0): Linear(in_features=120832, out_features=512, bias=True)\n",
       "      (1): ReLU()\n",
       "      (2): Linear(in_features=512, out_features=1, bias=True)\n",
       "      (3): Func()\n",
       "      (4): Linear(in_features=1, out_features=1, bias=True)\n",
       "    )\n",
       "    (weights): Sequential(\n",
       "      (0): Linear(in_features=2048, out_features=512, bias=True)\n",
       "      (1): ReLU()\n",
       "      (2): Linear(in_features=512, out_features=1, bias=True)\n",
       "      (3): Func()\n",
       "    )\n",
       "  )\n",
       ")"
      ]
     },
     "execution_count": 1,
     "metadata": {},
     "output_type": "execute_result"
    }
   ],
   "source": [
    "import torch as pt\n",
    "from src.pupieapp_metric.pu_pieapp.models.common import PUPieAPP\n",
    "\n",
    "weights = './src/resources/pupieapp_weights.pt'\n",
    "if pt.cuda.is_available():\n",
    "    map_location = 'cuda:0'\n",
    "else:\n",
    "    map_location = 'cpu'\n",
    "state = pt.load(weights, map_location=map_location)\n",
    "net = PUPieAPP(state)\n",
    "net.eval()"
   ]
  },
  {
   "cell_type": "code",
   "execution_count": 5,
   "id": "genetic-occasion",
   "metadata": {},
   "outputs": [],
   "source": [
    "import os\n",
    "\n",
    "original_and_reconstructed_path = './original_and_reconstructed_images'\n",
    "image_names = [image_name for image_name in os.listdir(original_and_reconstructed_path) if 'reconstructed' in image_name]"
   ]
  },
  {
   "cell_type": "code",
   "execution_count": 6,
   "id": "capable-grenada",
   "metadata": {},
   "outputs": [],
   "source": [
    "dynamic_range = 'sdr'\n",
    "lum_top = 100\n",
    "lum_bottom = 0.5\n",
    "stride = 32\n",
    "scores = {}"
   ]
  },
  {
   "cell_type": "code",
   "execution_count": 7,
   "id": "peaceful-night",
   "metadata": {},
   "outputs": [
    {
     "name": "stdout",
     "output_type": "stream",
     "text": [
      "Original image name: image102.jpg, reconstructed image name: image102_reconstructed.jpg.\n"
     ]
    }
   ],
   "source": [
    "import imageio\n",
    "\n",
    "for reconstructed_image_name in image_names:\n",
    "    original_image_name = reconstructed_image_name.split('_')[0] + '.jpg'\n",
    "    original_image_path = original_and_reconstructed_path + \"/\" + original_image_name\n",
    "    original_image = imageio.v2.imread(original_image_path)\n",
    "    original_image = pt.from_numpy(imageio.core.asarray(original_image))\n",
    "    original_image = original_image.permute(2, 0, 1)\n",
    "    original_image = original_image.unsqueeze(0)\n",
    "    \n",
    "    reconstructed_image_path = original_and_reconstructed_path + \"/\" + reconstructed_image_name\n",
    "    reconstructed_image = imageio.v2.imread(reconstructed_image_path)\n",
    "    reconstructed_image = pt.from_numpy(imageio.core.asarray(reconstructed_image))\n",
    "    reconstructed_image = reconstructed_image.permute(2, 0, 1)\n",
    "    reconstructed_image = reconstructed_image.unsqueeze(0)\n",
    "    print(f\"Original image name: {original_image_name}, reconstructed image name: {reconstructed_image_name}.\")\n",
    "    with pt.no_grad():\n",
    "        scores[(original_image_name, reconstructed_image_name)] = net(original_image, \n",
    "                                                                      reconstructed_image, \n",
    "                                                                      im_type=dynamic_range, \n",
    "                                                                      lum_bottom=lum_bottom, \n",
    "                                                                      lum_top=lum_top, \n",
    "                                                                      stride=stride)"
   ]
  },
  {
   "cell_type": "code",
   "execution_count": 9,
   "id": "seventh-silly",
   "metadata": {},
   "outputs": [
    {
     "name": "stdout",
     "output_type": "stream",
     "text": [
      "Original_image: image102.jpg, reconstructed_image: image102_reconstructed.jpg, metric score: -3.3574931621551514.\n"
     ]
    }
   ],
   "source": [
    "for key in scores.keys():\n",
    "    print(f\"Original_image: {key[0]}, reconstructed_image: {key[1]}, metric score: {scores[key].item()}.\")"
   ]
  }
 ],
 "metadata": {
  "kernelspec": {
   "display_name": "Python 3",
   "language": "python",
   "name": "python3"
  },
  "language_info": {
   "codemirror_mode": {
    "name": "ipython",
    "version": 3
   },
   "file_extension": ".py",
   "mimetype": "text/x-python",
   "name": "python",
   "nbconvert_exporter": "python",
   "pygments_lexer": "ipython3",
   "version": "3.9.1"
  }
 },
 "nbformat": 4,
 "nbformat_minor": 5
}
